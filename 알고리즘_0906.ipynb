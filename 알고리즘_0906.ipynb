{
 "cells": [
  {
   "cell_type": "code",
   "execution_count": 6,
   "metadata": {},
   "outputs": [
    {
     "name": "stdout",
     "output_type": "stream",
     "text": [
      "2\n"
     ]
    }
   ],
   "source": [
    "# 프로그래머스 level2 귤 고르기\n",
    "\n",
    "k = 4\n",
    "tangerine = [1, 3, 2, 5, 4, 5, 2, 3]\n",
    "\n",
    "tangerine.sort()\n",
    "\n",
    "\n",
    "present = tangerine[0]\n",
    "times = []\n",
    "count = 1\n",
    "\n",
    "for i in range(1, len(tangerine)) :\n",
    "    if present == tangerine[i] :\n",
    "        count += 1\n",
    "        present = tangerine[i]\n",
    "    else :\n",
    "        present = tangerine[i]\n",
    "        times.append(count)\n",
    "        count = 1\n",
    "times.append(count)\n",
    "\n",
    "    \n",
    "\n",
    "times.sort(reverse=True)\n",
    "answer = 0\n",
    "\n",
    "\n",
    "\n",
    "\n",
    "\n",
    "while k >= 0 :\n",
    "    \n",
    "    \n",
    "    for i in range(len(times)) :\n",
    "        if k <= 0 :\n",
    "            break\n",
    "\n",
    "        k -= times[i]\n",
    "        answer += 1\n",
    "        \n",
    "    break\n",
    "\n",
    "print(answer)\n",
    "\n",
    "\n",
    "# 이걸 풀다니!! 하지만 효율이 안나 ㅜ "
   ]
  },
  {
   "cell_type": "code",
   "execution_count": 24,
   "metadata": {},
   "outputs": [
    {
     "name": "stdout",
     "output_type": "stream",
     "text": [
      "[-1, -1, 1, -1, -1, -1]\n"
     ]
    }
   ],
   "source": [
    "# 가장 가까운 같은 글자\n",
    "\n",
    "s = 'foobar'\n",
    "\n",
    "check = []\n",
    "answer = []\n",
    "\n",
    "for i in s :\n",
    "    if i not in check :\n",
    "        answer.append(-1)\n",
    "        check.append(i)\n",
    "    else :\n",
    "        check.append(i)\n",
    "        temp = []\n",
    "        for j in range(len(check)) :\n",
    "            \n",
    "            if check[j] == i :\n",
    "                temp.append(j)\n",
    "        temp.sort(reverse=True)\n",
    "        answer.append(temp[0] - temp[1])\n",
    "        \n",
    "\n",
    "\n",
    "print(answer)\n",
    "        "
   ]
  },
  {
   "cell_type": "code",
   "execution_count": 38,
   "metadata": {},
   "outputs": [
    {
     "name": "stdout",
     "output_type": "stream",
     "text": [
      "[1, 1, 4, 7, 9]\n",
      "14\n"
     ]
    }
   ],
   "source": [
    "# 프로그래머스 level2 연속 부분 수열 합의 개수\n",
    "\n",
    "elements = [7,9,1,1,4]\n",
    "\n",
    "elements.sort()\n",
    "\n",
    "print(elements)\n",
    "\n",
    "answer = []\n",
    "\n",
    "for k in range(len(elements)):\n",
    "\n",
    "    for i in range(k, len(elements)):\n",
    "        temp = 0\n",
    "\n",
    "        for j in range(k, i+1):\n",
    "\n",
    "            temp += elements[j]\n",
    "        \n",
    "        answer.append(temp)\n",
    "\n",
    "print(len(set(answer)))\n",
    "\n"
   ]
  },
  {
   "cell_type": "code",
   "execution_count": 43,
   "metadata": {},
   "outputs": [
    {
     "name": "stdout",
     "output_type": "stream",
     "text": [
      "[1, 1, 4, 7, 9]\n",
      "[2, 5, 11, 16, 10]\n"
     ]
    }
   ],
   "source": [
    "# 만약에. 길이가 2인 연속 부분 수열\n",
    "\n",
    "elements = [7,9,1,1,4]\n",
    "\n",
    "elements.sort()\n",
    "\n",
    "print(elements)\n",
    "\n",
    "temp = []\n",
    "\n",
    "while True :\n",
    "    \n",
    "    for i in range(len(elements)):\n",
    "        temp_num = elements[i % len(elements)] + elements[(i+1) % len(elements)]\n",
    "\n",
    "        if temp_num in temp :\n",
    "            break\n",
    "\n",
    "        temp.append(temp_num)\n",
    "    break\n",
    "\n",
    "print(temp)\n",
    "\n",
    "# 길이가 1, 3, 4, 5, 인 경우를 .. 만들어야됨 이어서..."
   ]
  },
  {
   "cell_type": "code",
   "execution_count": 62,
   "metadata": {},
   "outputs": [
    {
     "name": "stdout",
     "output_type": "stream",
     "text": [
      "[1, 1, 4, 7, 9]\n",
      "[0, 0, 0, 0, 0]\n",
      "{1, 2, 4, 5, 6, 7, 9, 10, 11, 12, 13, 15, 16, 17, 18, 20, 21, 22}\n"
     ]
    }
   ],
   "source": [
    "elements = [7,9,1,1,4]\n",
    "\n",
    "elements.sort()\n",
    "\n",
    "print(elements)\n",
    "\n",
    "temp = [0] * len(elements)\n",
    "\n",
    "print(temp)\n",
    "\n",
    "answer = []\n",
    "\n",
    "for i in range(len(elements)):\n",
    "    for j in range(i, len(elements)+i):\n",
    "        temp[j-i] += elements[j % len(elements)]\n",
    "    \n",
    "    answer.extend(temp)\n",
    "\n",
    "    \n",
    "print(set(answer))\n",
    "\n",
    "# 통과 안됨 ㅋㅋㅋ.. 케이스 1번만 통과 ㅜ"
   ]
  },
  {
   "cell_type": "code",
   "execution_count": null,
   "metadata": {},
   "outputs": [],
   "source": [
    "elements = [7,9,1,1,4]\n",
    "\n",
    "answer = 0\n",
    "\n",
    "elements_2 = elements * 2\n",
    "\n",
    "prefix_sum = [0] * len(elements_2)\n",
    "prefix_sum[0] = elements_2[0]\n",
    "\n",
    "for i in range(1, len(elements_2)):\n",
    "    prefix_sum[i] = prefix_sum[i-1] + elements_2[i]\n",
    "\n",
    "nums = set()\n",
    "for length in range(1, len(elements) + 1):\n",
    "    for i in range(len(elements)):\n",
    "        sum = prefix_sum[i+length] - prefix_sum[i]\n",
    "        nums.add(sum)\n",
    "\n",
    "answer = len(nums)\n",
    "\n",
    "# 완전탐색 말고 탐색 속도 줄이는 방법\n"
   ]
  }
 ],
 "metadata": {
  "kernelspec": {
   "display_name": "Python 3",
   "language": "python",
   "name": "python3"
  },
  "language_info": {
   "codemirror_mode": {
    "name": "ipython",
    "version": 3
   },
   "file_extension": ".py",
   "mimetype": "text/x-python",
   "name": "python",
   "nbconvert_exporter": "python",
   "pygments_lexer": "ipython3",
   "version": "3.11.4"
  }
 },
 "nbformat": 4,
 "nbformat_minor": 2
}

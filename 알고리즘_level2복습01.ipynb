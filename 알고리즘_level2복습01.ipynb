{
 "cells": [
  {
   "cell_type": "code",
   "execution_count": 5,
   "metadata": {},
   "outputs": [
    {
     "name": "stdout",
     "output_type": "stream",
     "text": [
      "168\n"
     ]
    }
   ],
   "source": [
    "import math\n",
    "\n",
    "arr = [2, 6, 8, 14]\n",
    "\n",
    "for k in range(len(arr)-1) :\n",
    "    gcd = math.gcd(arr[k], arr[k+1])\n",
    "    lcm = arr[k] * arr[k+1] // gcd\n",
    "    arr[k+1] = lcm\n",
    "\n",
    "print(lcm)\n",
    "\n",
    "\n"
   ]
  },
  {
   "cell_type": "code",
   "execution_count": 26,
   "metadata": {},
   "outputs": [
    {
     "name": "stdout",
     "output_type": "stream",
     "text": [
      "[1, 0, 0, 0]\n",
      "5\n"
     ]
    }
   ],
   "source": [
    "def solution(n):\n",
    "    \n",
    "    if n == 1 :\n",
    "        return 1\n",
    "    else :\n",
    "        dp = [0] * (n+1)\n",
    "        dp[1] = 1\n",
    "        dp[2] = 2\n",
    "        \n",
    "        for i in range(3, n+1):\n",
    "            dp[i] = (dp[i-2] + dp[i-1]) % 1234567\n",
    "        return dp[-1]\n"
   ]
  }
 ],
 "metadata": {
  "kernelspec": {
   "display_name": "Python 3",
   "language": "python",
   "name": "python3"
  },
  "language_info": {
   "codemirror_mode": {
    "name": "ipython",
    "version": 3
   },
   "file_extension": ".py",
   "mimetype": "text/x-python",
   "name": "python",
   "nbconvert_exporter": "python",
   "pygments_lexer": "ipython3",
   "version": "3.11.4"
  }
 },
 "nbformat": 4,
 "nbformat_minor": 2
}

{
 "cells": [
  {
   "cell_type": "code",
   "execution_count": 11,
   "metadata": {},
   "outputs": [
    {
     "name": "stdout",
     "output_type": "stream",
     "text": [
      "e F d\n"
     ]
    }
   ],
   "source": [
    "# 프로그래머스 level1 시저 암호\n",
    "\n",
    "s = 'a B z'\n",
    "n = 4\n",
    "\n",
    "up = 'ABCDEFGHIJKLMNOPQRSTUVWXYZ'\n",
    "down = 'abcdefghijklmnopqrstuvwxyz'\n",
    "\n",
    "answer = []\n",
    "for i in s :\n",
    "    if i in up :\n",
    "        answer.append(up[(up.index(i)+n)%26])\n",
    "    elif i in down :\n",
    "        answer.append(down[(down.index(i)+n)%26])\n",
    "    elif i == ' ' :\n",
    "        answer.append(' ')\n",
    "    else :\n",
    "        continue\n",
    "\n",
    "print(''.join(answer))\n"
   ]
  },
  {
   "cell_type": "code",
   "execution_count": 54,
   "metadata": {},
   "outputs": [
    {
     "name": "stdout",
     "output_type": "stream",
     "text": [
      "3\n"
     ]
    }
   ],
   "source": [
    "# 프로그래머스 level2 예상 대진표\n",
    "\n",
    "n = 8\n",
    "a = 4\n",
    "b = 7\n",
    "answer  = 0\n",
    "\n",
    "while a != b :\n",
    "    a = (a+1)//2\n",
    "    b = (b+1)//2\n",
    "    answer += 1\n",
    "\n",
    "print(answer)"
   ]
  },
  {
   "cell_type": "code",
   "execution_count": null,
   "metadata": {},
   "outputs": [],
   "source": [
    "while True :\n",
    "    if a % 2 :\n",
    "        a = a // 2 + 1\n",
    "    else :\n",
    "        a = a // 2\n",
    "    \n",
    "    if b % 2 :\n",
    "        b = b // 2 + 1\n",
    "\n",
    "    else :\n",
    "        b = b // 2\n",
    "\n",
    "\n",
    "# 이게 더 이해하기 쉬운듯.. 사람들 머리 참 좋다 ,\n"
   ]
  }
 ],
 "metadata": {
  "kernelspec": {
   "display_name": "Python 3",
   "language": "python",
   "name": "python3"
  },
  "language_info": {
   "codemirror_mode": {
    "name": "ipython",
    "version": 3
   },
   "file_extension": ".py",
   "mimetype": "text/x-python",
   "name": "python",
   "nbconvert_exporter": "python",
   "pygments_lexer": "ipython3",
   "version": "3.11.4"
  }
 },
 "nbformat": 4,
 "nbformat_minor": 2
}

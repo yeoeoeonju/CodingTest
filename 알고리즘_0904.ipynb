{
 "cells": [
  {
   "cell_type": "code",
   "execution_count": 41,
   "metadata": {},
   "outputs": [
    {
     "name": "stdout",
     "output_type": "stream",
     "text": [
      "[1, 3]\n"
     ]
    }
   ],
   "source": [
    "# 프로그래머스 level2 영어 끝말잇기\n",
    "\n",
    "n = 2\n",
    "words = [\"hello\", \"one\", \"even\", \"never\", \"now\", \"world\", \"draw\"]\n",
    "\n",
    "# 앞사람이 말한 단어의 마지막 단어로 시작\n",
    "# 또 등장하는 단어 x\n",
    "# 한글자 단어 x\n",
    "\n",
    "# 몇번째사람이 몇번째 회기에 탈락하는지,, [3, 3]\n",
    "\n",
    "'''\n",
    "0, 3, 6\n",
    "1, 4, 7\n",
    "2, 5, 8\n",
    "\n",
    "'''\n",
    "temp = ''\n",
    "check_lst = []\n",
    "for i in range(len(words)-1) :\n",
    "\n",
    "    check_lst.append(words[i])\n",
    "\n",
    "    if words[i][-1] == words[i+1][0] and words[i+1] not in check_lst and len(words[i]) != 1:\n",
    "\n",
    "        continue\n",
    "    else :\n",
    "         temp = words[i+1]\n",
    "         print([((i+1) % n) + 1 ,((i+1) //n)+1])\n",
    "         \n",
    "         \n",
    "if temp == '':\n",
    "    print([0,0])\n",
    "\n"
   ]
  },
  {
   "cell_type": "code",
   "execution_count": 54,
   "metadata": {},
   "outputs": [
    {
     "name": "stdout",
     "output_type": "stream",
     "text": [
      "[[10, 7], [12, 3], [15, 8], [14, 7], [15, 5]]\n",
      "120\n"
     ]
    }
   ],
   "source": [
    "#프로그래머스 level1 최소직사각형\n",
    "\n",
    "sizes = [[10, 7], [12, 3], [8, 15], [14, 7], [5, 15]]\n",
    "garo = []\n",
    "sero = []\n",
    "\n",
    "for i in sizes :\n",
    "    if i[0] < i[1]:\n",
    "        temp = i[0]\n",
    "        i[0] = i[1]\n",
    "        i[1] = temp\n",
    "        \n",
    "\n",
    "    else :\n",
    "        continue\n",
    "\n",
    "\n",
    "for i in range(len(sizes)) :\n",
    "    garo.append(sizes[i][0])\n",
    "    sero.append(sizes[i][1])\n",
    "\n",
    "garo.sort()\n",
    "sero.sort()\n",
    "\n",
    "print(garo[-1] * sero[-1])\n",
    "\n"
   ]
  }
 ],
 "metadata": {
  "kernelspec": {
   "display_name": "Python 3",
   "language": "python",
   "name": "python3"
  },
  "language_info": {
   "codemirror_mode": {
    "name": "ipython",
    "version": 3
   },
   "file_extension": ".py",
   "mimetype": "text/x-python",
   "name": "python",
   "nbconvert_exporter": "python",
   "pygments_lexer": "ipython3",
   "version": "3.11.4"
  }
 },
 "nbformat": 4,
 "nbformat_minor": 2
}

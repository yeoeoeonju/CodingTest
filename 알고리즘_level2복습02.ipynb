{
 "cells": [
  {
   "cell_type": "code",
   "execution_count": 6,
   "metadata": {},
   "outputs": [
    {
     "name": "stdout",
     "output_type": "stream",
     "text": [
      "[2, 6, 24, 168]\n",
      "168\n"
     ]
    }
   ],
   "source": [
    "# 프로그래머스 level2 최소공배수\n",
    "import math\n",
    "\n",
    "arr = [2,6,8,14]\n",
    "\n",
    "for i in range(len(arr)-1):\n",
    "\n",
    "    gcd = math.gcd(arr[i], arr[i+1])\n",
    "    lcm = arr[i] * arr[i+1] // gcd \n",
    "\n",
    "    arr[i+1] = lcm\n",
    "\n",
    "print(arr)\n",
    "print(arr[-1])"
   ]
  },
  {
   "cell_type": "code",
   "execution_count": 13,
   "metadata": {},
   "outputs": [
    {
     "name": "stdout",
     "output_type": "stream",
     "text": [
      "[1, 1, 2, 3, 5]\n",
      "5\n"
     ]
    }
   ],
   "source": [
    "# 프로그래머스 level2 멀리뛰기\n",
    "n = 4\n",
    "lst = []\n",
    "\n",
    "for i in range(n+1) :\n",
    "    lst.append(0)\n",
    "\n",
    "lst[0] = 1\n",
    "lst[1] = 1\n",
    "\n",
    "for i in range(2, len(lst)):\n",
    "    lst[i] = lst[i-1] + lst[i-2]\n",
    "\n",
    "print(lst)\n",
    "\n",
    "print(lst[-1])\n"
   ]
  },
  {
   "cell_type": "code",
   "execution_count": 23,
   "metadata": {},
   "outputs": [
    {
     "name": "stdout",
     "output_type": "stream",
     "text": [
      "3\n"
     ]
    }
   ],
   "source": [
    "# 프로그래머스 구명보트\n",
    "\n",
    "people = [70, 50, 80, 50]\n",
    "limit = 100\n",
    "\n",
    "\n",
    "right = len(people) -1\n",
    "left = 0\n",
    "cnt = 0\n",
    "current = limit\n",
    "\n",
    "while left <= right :\n",
    "\n",
    "    current -= people[left]\n",
    "    left += 1\n",
    "\n",
    "    if current >= people[right] :\n",
    "        current -= people[right]\n",
    "        right -= 1\n",
    "\n",
    "    current = limit\n",
    "    cnt += 1\n",
    "\n",
    "print(cnt)\n",
    "\n"
   ]
  },
  {
   "cell_type": "code",
   "execution_count": null,
   "metadata": {},
   "outputs": [],
   "source": [
    "# 프로그래머스 level2 점프와 순간 이동\n",
    "\n",
    "n = 5\n",
    "\n",
    "answer = 0\n",
    "\n",
    "while n :\n",
    "    \n",
    "    if n % 2 != 0 :\n",
    "        answer += 1\n",
    "        n = n //2 \n",
    "    else :\n",
    "        n = n // 2\n",
    "\n",
    "\n"
   ]
  },
  {
   "cell_type": "code",
   "execution_count": 39,
   "metadata": {},
   "outputs": [
    {
     "name": "stdout",
     "output_type": "stream",
     "text": [
      "[]\n"
     ]
    }
   ],
   "source": [
    "# 프로그래머스 level2 짝지어 제거하기\n",
    "\n",
    "s = 'baabaa'\n",
    "stck = []\n",
    "\n",
    "\n",
    "\n",
    "for i in range(len(s)) :\n",
    "\n",
    "    if not stck :\n",
    "        stck.append(s[i])\n",
    "        continue\n",
    "    \n",
    "    top = stck[-1]\n",
    "    \n",
    "    if s[i] == top :\n",
    "        stck.pop()\n",
    "    else:\n",
    "        stck.append(s[i])\n",
    "\n",
    "    \n",
    "\n",
    "print(stck)\n",
    "    \n",
    "    \n",
    "        "
   ]
  },
  {
   "cell_type": "code",
   "execution_count": 56,
   "metadata": {},
   "outputs": [
    {
     "name": "stdout",
     "output_type": "stream",
     "text": [
      "[['tank', 'wheel', 'Mother'], ['kick', 'land', 'robot'], ['know', 'dream', 'tank']]\n",
      "0 2\n"
     ]
    }
   ],
   "source": [
    "# 프로그래머스 level2 영어 끝말잇기\n",
    "\n",
    "n = 3\n",
    "words = [\"tank\", \"kick\", \"know\", \"wheel\", \"land\", \"dream\", \"Mother\", \"robot\", \"tank\"]\n",
    "\n",
    "# 앞사람이 말한 단어의 마지막 단어로 시작\n",
    "# 또 등장하는 단어 x\n",
    "# 한글자 단어 x\n",
    "\n",
    "# 몇번째사람이 몇번째 회기에 탈락하는지,, [3, 3]\n",
    "\n",
    "'''\n",
    "0, 3, 6\n",
    "1, 4, 7\n",
    "2, 5, 8\n",
    "\n",
    "'''\n",
    "temp = ''\n",
    "\n",
    "for i in range(len(words)-1) :\n",
    "    if words[i][-1] == words[i+1][0] :\n",
    "        continue\n",
    "    elif :\n",
    "         temp = words[i+1]\n",
    "\n",
    "\n",
    "new_lst = []\n",
    "\n",
    "for i in range(n) :\n",
    "    lst = []\n",
    "    for j in range(n):\n",
    "        \n",
    "        lst.append(words[i+ 3*j])\n",
    "    \n",
    "    new_lst.append(lst)\n",
    "\n",
    "print(new_lst)\n",
    "\n",
    "for i in range(len(new_lst)) :\n",
    "    for j in range(len(new_lst)):\n",
    "        if temp == new_lst[j][i] :\n",
    "            print(j , i)\n",
    "\n",
    "\n"
   ]
  }
 ],
 "metadata": {
  "kernelspec": {
   "display_name": "Python 3",
   "language": "python",
   "name": "python3"
  },
  "language_info": {
   "codemirror_mode": {
    "name": "ipython",
    "version": 3
   },
   "file_extension": ".py",
   "mimetype": "text/x-python",
   "name": "python",
   "nbconvert_exporter": "python",
   "pygments_lexer": "ipython3",
   "version": "3.11.4"
  }
 },
 "nbformat": 4,
 "nbformat_minor": 2
}
